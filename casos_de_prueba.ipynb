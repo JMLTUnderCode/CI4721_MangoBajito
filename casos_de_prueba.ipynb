{
 "cells": [
  {
   "cell_type": "markdown",
   "metadata": {},
   "source": [
    "# Archivo de casos de prueba\n",
    "\n",
    "Este archivo esta destinado a implementar los casos de pruebas necesarios para el lenguaje de programación MangoBajito, implementando primero una solución en python."
   ]
  },
  {
   "cell_type": "markdown",
   "metadata": {},
   "source": [
    "## Caso de prueba Nro.1: Hola mundo"
   ]
  },
  {
   "cell_type": "markdown",
   "metadata": {},
   "source": [
    "### Version Python"
   ]
  },
  {
   "cell_type": "code",
   "execution_count": null,
   "metadata": {},
   "outputs": [],
   "source": [
    "print(\"hola Mundo\")"
   ]
  },
  {
   "cell_type": "markdown",
   "metadata": {},
   "source": [
    "### Versión MangoBajito"
   ]
  },
  {
   "cell_type": "raw",
   "metadata": {
    "vscode": {
     "languageId": "raw"
    }
   },
   "source": [
    "rescata(\"Hola mundo\")"
   ]
  },
  {
   "cell_type": "markdown",
   "metadata": {},
   "source": [
    "## Caso de Prueba Nro.2: Hola usuario"
   ]
  },
  {
   "cell_type": "markdown",
   "metadata": {},
   "source": [
    "### Version Python"
   ]
  },
  {
   "cell_type": "markdown",
   "metadata": {},
   "source": [
    "### Version Python"
   ]
  },
  {
   "cell_type": "code",
   "execution_count": null,
   "metadata": {},
   "outputs": [],
   "source": [
    "nombre = input('nombre de usuario: ')\n",
    "print(\"Hola \" + nombre)"
   ]
  },
  {
   "cell_type": "markdown",
   "metadata": {},
   "source": [
    "### Versión MangoBajito"
   ]
  },
  {
   "cell_type": "raw",
   "metadata": {
    "vscode": {
     "languageId": "raw"
    }
   },
   "source": [
    "culito nombre: higuerote = hablame('nombre de usuario: ')\n",
    "rescata(\"Hola \" + nombre)"
   ]
  },
  {
   "cell_type": "markdown",
   "metadata": {},
   "source": [
    "## Caso de Prueba Nro.3:  Sumar todos los números de la entrada hasta que se ingrese cero (0)"
   ]
  },
  {
   "cell_type": "markdown",
   "metadata": {},
   "source": [
    "### Version Python"
   ]
  },
  {
   "cell_type": "code",
   "execution_count": null,
   "metadata": {},
   "outputs": [],
   "source": [
    "suma = 0\n",
    "while True:\n",
    "    numero = int(input(''))\n",
    "    if numero == 0:\n",
    "        break\n",
    "    suma = suma + numero"
   ]
  },
  {
   "cell_type": "markdown",
   "metadata": {},
   "source": [
    "### Versión MangoBajito"
   ]
  },
  {
   "cell_type": "raw",
   "metadata": {
    "vscode": {
     "languageId": "raw"
    }
   },
   "source": [
    "culito suma: mango = 0;\n",
    "culito n: mango;\n",
    "\n",
    "echale_bolas_hasta Sisa{\n",
    "    n = mango(hablame(''));\n",
    "    si_es_asi n igualito 0 {\n",
    "        uy_kieto\t\n",
    "    };\n",
    "    suma = suma + n\n",
    "}\n"
   ]
  },
  {
   "cell_type": "markdown",
   "metadata": {},
   "source": [
    "## Caso de Prueba Nro.3:  Cálculo del n-ésimo fibonacci (leyendo el entero de la entrada estándar)"
   ]
  },
  {
   "cell_type": "markdown",
   "metadata": {},
   "source": [
    "### Version Python"
   ]
  },
  {
   "cell_type": "code",
   "execution_count": null,
   "metadata": {},
   "outputs": [],
   "source": [
    "n = int(input(''))\n",
    "a = 0\n",
    "\n",
    "b = 1\n",
    "for i in range(n-1):\n",
    "    temp = a\n",
    "    a = b\n",
    "    b = temp + b\n",
    "\n",
    "# a tiene el n-ésimo numero de fibonacci"
   ]
  },
  {
   "cell_type": "markdown",
   "metadata": {},
   "source": [
    "### Versión MangoBajito"
   ]
  },
  {
   "cell_type": "raw",
   "metadata": {
    "vscode": {
     "languageId": "raw"
    }
   },
   "source": [
    "jeva n: mango = mango(hablame(\"\"));\n",
    "culito a: mango = 0;\n",
    "culito b: mango = 1;\n",
    "culito temp: mango;\n",
    "\n",
    "repite_burda i entre 1 hasta n-1 con_flow 1{\n",
    "    temp = a;\n",
    "    a = b;\n",
    "    b = temp + b;\n",
    "}"
   ]
  },
  {
   "cell_type": "markdown",
   "metadata": {},
   "source": [
    "## Caso de Prueba Nro.4:  Multiplicación de dos matrices, no necesariamente cuadradas"
   ]
  },
  {
   "cell_type": "markdown",
   "metadata": {},
   "source": [
    "### Version Python"
   ]
  },
  {
   "cell_type": "code",
   "execution_count": null,
   "metadata": {},
   "outputs": [],
   "source": [
    "# inicialización de las matrices\n",
    "A = [[]]\n",
    "B = [[]]\n",
    "\n",
    "# Comprobación de los tamaños de las matrices\n",
    "filas_A = len(A)\n",
    "columnas_A = len(A[0])\n",
    "filas_B = len(B)\n",
    "columnas_B = len(B[0])\n",
    "\n",
    "if columnas_A != filas_B:\n",
    "    raise ValueError(\"El número de columnas de A debe ser igual al número de filas de B\")\n",
    "\n",
    "# Inicializar la matriz resultado con ceros\n",
    "C = [[0 for _ in range(columnas_B)] for _ in range(filas_A)]\n",
    "\n",
    "# Multiplicar matrices\n",
    "for i in range(filas_A):\n",
    "    for j in range(columnas_B):\n",
    "        for k in range(columnas_A):\n",
    "            C[i][j] += A[i][k] * B[k][j]"
   ]
  },
  {
   "cell_type": "markdown",
   "metadata": {},
   "source": [
    "### Versión MangoBajito"
   ]
  },
  {
   "cell_type": "raw",
   "metadata": {
    "vscode": {
     "languageId": "raw"
    }
   },
   "source": [
    "culito A: mango[][]\n",
    "culito B: mango[][]\n",
    "\n",
    "jeva filas_A: mango = largo(A)\n",
    "jeva columnas_A: mango = largo(A[0])\n",
    "jeva filas_B: mango = largo(B)\n",
    "jeva columnas_B: mango = largo(B[0])\n",
    "\n",
    "si_es_asi (columnas_A nie filas_B) {\n",
    "  ah_vaina(\"El número de columnas de A debe ser igual al número de filas de B\")     \n",
    "\n",
    "\n",
    "culito C: mango[filas_A][columnas_B]\n",
    "\n",
    "repite_burda i entre 0 hasta filas_A {\n",
    "    repite_burda j entre 0 hasta columnas_B {\n",
    "       C[i][j] = 0\n",
    "\n",
    "repite_burda i entre 0 hasta filas_A {\n",
    "    repite_burda j entre 0 hasta columnas_B {\n",
    "        repite_burda k entre 0 hasta columnas_A {\n",
    "            C[i][j] += A[i][k] * B[k][j]"
   ]
  },
  {
   "cell_type": "markdown",
   "metadata": {},
   "source": [
    "## Caso de Prueba Nro.5:  Implementación del algoritmo de Kruskal, incluyendo implementación de cola de prioridades y conjuntos disjuntos"
   ]
  },
  {
   "cell_type": "markdown",
   "metadata": {},
   "source": [
    "### Version Python"
   ]
  },
  {
   "cell_type": "code",
   "execution_count": 14,
   "metadata": {},
   "outputs": [],
   "source": [
    "# TODO:\n",
    "# Hay que hacer la implementación jejox"
   ]
  },
  {
   "cell_type": "markdown",
   "metadata": {},
   "source": [
    "### Versión MangoBajito"
   ]
  },
  {
   "cell_type": "raw",
   "metadata": {
    "vscode": {
     "languageId": "raw"
    }
   },
   "source": [
    "# TODO:\n",
    "# Hay que esperar a la implementación de python saludos"
   ]
  },
  {
   "cell_type": "markdown",
   "metadata": {},
   "source": [
    "## Caso de Prueba Nro.6:  Intérprete del lenguaje Brainf*ck ( https://esolangs.org/wiki/Brainfuck )"
   ]
  },
  {
   "cell_type": "markdown",
   "metadata": {},
   "source": [
    "### Version Python"
   ]
  },
  {
   "cell_type": "code",
   "execution_count": null,
   "metadata": {},
   "outputs": [],
   "source": [
    "# TODO:\n",
    "# Revisar que funcione bien el comando ','\n",
    "\n",
    "\n",
    "# Hello, World!\n",
    "entrada = \"\"\"\n",
    "+++++++++++[>++++++>+++++++++>++++++++>++++>+++>+<<<<<<-]>+++\n",
    "+++.>++.+++++++..+++.>>.>-.<<-.<.+++.------.--------.>>>+.>-.\n",
    "\"\"\"\n",
    "\n",
    "# seteamos la memoria \n",
    "tamano_memoria = 30000\n",
    "memoria = [0 for _ in range(tamano_memoria)]\n",
    "\n",
    "# Seteamos el puntero de la memoria\n",
    "puntero_memoria = 0\n",
    "\n",
    "# Seteamos el pc\n",
    "pc = 0\n",
    "\n",
    "# Control de la profundidad, indica que tan anidado estan las repeticiones\n",
    "profundidad = 0\n",
    "\n",
    "# flujo principal \n",
    "\n",
    "while pc < len(entrada):\n",
    "    caracter_entrada = entrada[pc]\n",
    "    \n",
    "    if caracter_entrada == \">\":\n",
    "        if puntero_memoria + 1 < len(memoria):\n",
    "            puntero_memoria += 1\n",
    "        \n",
    "    elif caracter_entrada == \"<\":\n",
    "        if puntero_memoria > 0:\n",
    "            puntero_memoria -= 1\n",
    "        \n",
    "    elif caracter_entrada == \"+\":\n",
    "        memoria[puntero_memoria] += 1\n",
    "        \n",
    "    elif caracter_entrada == \"-\":\n",
    "        memoria[puntero_memoria] -= 1\n",
    "        \n",
    "    elif caracter_entrada == \",\":\n",
    "        memoria[puntero_memoria] = ord(input()[0])\n",
    "        \n",
    "    elif caracter_entrada == \"[\" and memoria[puntero_memoria] == 0:\n",
    "        while True:\n",
    "            pc+=1\n",
    "            \n",
    "            if entrada[pc] == \"[\":\n",
    "                profundidad += 1\n",
    "            elif entrada[pc] == \"]\" and profundidad != 0:\n",
    "                profundidad -=1\n",
    "            elif entrada[pc] == \"]\" and profundidad == 0:\n",
    "                break\n",
    "            \n",
    "    elif caracter_entrada == \"]\" and memoria[puntero_memoria] != 0:\n",
    "        while True:\n",
    "            pc -= 1\n",
    "            \n",
    "            if entrada[pc] == \"]\":\n",
    "                profundidad += 1\n",
    "            elif entrada[pc] == \"[\" and profundidad != 0:\n",
    "                profundidad -=1\n",
    "            elif entrada[pc] == \"[\" and profundidad == 0:\n",
    "                break\n",
    "            \n",
    "    elif caracter_entrada == \".\":\n",
    "        print(chr(memoria[puntero_memoria]), end=\"\")\n",
    "        \n",
    "    pc += 1"
   ]
  },
  {
   "cell_type": "markdown",
   "metadata": {},
   "source": [
    "### Versión MangoBajito"
   ]
  },
  {
   "cell_type": "raw",
   "metadata": {},
   "source": [
    "# TODO:\n",
    "# Hay que esperar a la implementación de python saludos"
   ]
  }
 ],
 "metadata": {
  "kernelspec": {
   "display_name": "Python 3",
   "language": "python",
   "name": "python3"
  },
  "language_info": {
   "codemirror_mode": {
    "name": "ipython",
    "version": 3
   },
   "file_extension": ".py",
   "mimetype": "text/x-python",
   "name": "python",
   "nbconvert_exporter": "python",
   "pygments_lexer": "ipython3",
   "version": "3.10.12"
  }
 },
 "nbformat": 4,
 "nbformat_minor": 2
}
