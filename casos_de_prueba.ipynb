{
 "cells": [
  {
   "cell_type": "markdown",
   "metadata": {},
   "source": [
    "# Archivo de casos de prueba\n",
    "\n",
    "Este archivo esta destinado a implementar los casos de pruebas necesarios para el lenguaje de programación MangoBajito, implementando primero una solución en python."
   ]
  },
  {
   "cell_type": "markdown",
   "metadata": {},
   "source": [
    "## Caso de prueba Nro.1: Hola mundo"
   ]
  },
  {
   "cell_type": "markdown",
   "metadata": {},
   "source": [
    "### Version Python"
   ]
  },
  {
   "cell_type": "code",
   "execution_count": null,
   "metadata": {},
   "outputs": [],
   "source": [
    "print(\"hola Mundo\")"
   ]
  },
  {
   "cell_type": "markdown",
   "metadata": {},
   "source": [
    "### Versión MangoBajito\n",
    "```\n",
    "rescata(\"Hola mundo\");\n",
    "```"
   ]
  },
  {
   "cell_type": "markdown",
   "metadata": {},
   "source": [
    "## Caso de Prueba Nro.2: Hola usuario"
   ]
  },
  {
   "cell_type": "markdown",
   "metadata": {},
   "source": [
    "### Version Python"
   ]
  },
  {
   "cell_type": "code",
   "execution_count": null,
   "metadata": {},
   "outputs": [],
   "source": [
    "nombre = input('nombre de usuario: ')\n",
    "print(\"Hola \" + nombre)"
   ]
  },
  {
   "cell_type": "markdown",
   "metadata": {},
   "source": [
    "### Versión MangoBajito\n",
    "```\n",
    "culito nombre: higuerote = hablame(\"nombre de usuario: \");\n",
    "rescata(\"Hola \", nombre);\n",
    "```"
   ]
  },
  {
   "cell_type": "markdown",
   "metadata": {},
   "source": [
    "## Caso de Prueba Nro.3:  Sumar todos los números de la entrada hasta que se ingrese cero (0)"
   ]
  },
  {
   "cell_type": "markdown",
   "metadata": {},
   "source": [
    "### Version Python"
   ]
  },
  {
   "cell_type": "code",
   "execution_count": null,
   "metadata": {},
   "outputs": [],
   "source": [
    "suma = 0\n",
    "while True:\n",
    "    numero = int(input(''))\n",
    "    if numero == 0:\n",
    "        break\n",
    "    suma = suma + numero"
   ]
  },
  {
   "cell_type": "markdown",
   "metadata": {},
   "source": [
    "### Versión MangoBajito\n",
    "```\n",
    "culito suma: mango = 0;\n",
    "culito n: mango;\n",
    "\n",
    "echale_bolas_si (Sisa) {\n",
    "    n = (mango)hablame('');\n",
    "    si_es_asi (n igualito 0) {\n",
    "        uy_kieto;\n",
    "    };\n",
    "    suma += n;\n",
    "}\n",
    "```"
   ]
  },
  {
   "cell_type": "markdown",
   "metadata": {},
   "source": [
    "## Caso de Prueba Nro.3:  Cálculo del n-ésimo fibonacci (leyendo el entero de la entrada estándar)"
   ]
  },
  {
   "cell_type": "markdown",
   "metadata": {},
   "source": [
    "### Version Python"
   ]
  },
  {
   "cell_type": "code",
   "execution_count": null,
   "metadata": {},
   "outputs": [],
   "source": [
    "n = int(input(''))\n",
    "a = 0\n",
    "\n",
    "b = 1\n",
    "for i in range(n-1):\n",
    "    temp = a\n",
    "    a = b\n",
    "    b = temp + b\n",
    "\n",
    "print(a)\n",
    "# a tiene el n-ésimo numero de fibonacci"
   ]
  },
  {
   "cell_type": "markdown",
   "metadata": {},
   "source": [
    "### Versión MangoBajito\n",
    "```\n",
    "jeva n: mango = mango(hablame(\"\"));\n",
    "culito a: mango = 0;\n",
    "culito b: mango = 1;\n",
    "culito temp: mango;\n",
    "\n",
    "repite_burda i entre 1 hasta n-1 con_flow 1 {\n",
    "    temp = a;\n",
    "    a = b;\n",
    "    b = temp + b;\n",
    "}\n",
    "```"
   ]
  },
  {
   "cell_type": "markdown",
   "metadata": {},
   "source": [
    "## Caso de Prueba Nro.4:  Multiplicación de dos matrices, no necesariamente cuadradas"
   ]
  },
  {
   "cell_type": "markdown",
   "metadata": {},
   "source": [
    "### Version Python"
   ]
  },
  {
   "cell_type": "code",
   "execution_count": null,
   "metadata": {},
   "outputs": [],
   "source": [
    "# inicialización de las matrices\n",
    "A = [[1, 2], [3, 4], [5, 6]]\n",
    "B = [[1, 2, 3], [4, 5, 6]]\n",
    "\n",
    "# Comprobación de los tamaños de las matrices\n",
    "filas_A = len(A)\n",
    "columnas_A = len(A[0])\n",
    "filas_B = len(B)\n",
    "columnas_B = len(B[0])\n",
    "\n",
    "if columnas_A != filas_B:\n",
    "    raise ValueError(\"El número de columnas de A debe ser igual al número de filas de B\")\n",
    "\n",
    "# Inicializar la matriz resultado con ceros\n",
    "C = [[0 for _ in range(columnas_B)] for _ in range(filas_A)]\n",
    "\n",
    "# Multiplicar matrices\n",
    "for i in range(filas_A):\n",
    "    for j in range(columnas_B):\n",
    "        for k in range(columnas_A):\n",
    "            C[i][j] += A[i][k] * B[k][j]"
   ]
  },
  {
   "cell_type": "markdown",
   "metadata": {},
   "source": [
    "### Versión MangoBajito\n",
    "```\n",
    "culito A: mango[3][2] = [[1,2],[3,4],[5,6]];\n",
    "culito B: mango[2][3] = [[1,2,3],[4,5,6]];\n",
    "\n",
    "jeva filas_A: mango = me_mide(A);\n",
    "jeva columnas_A: mango = me_mide(A[0]);\n",
    "jeva filas_B: mango = me_mide(B);\n",
    "jeva columnas_B: mango = me_mide(B[0]);\n",
    "\n",
    "si_es_asi (columnas_A nie filas_B) {\n",
    "\tah_vaina(\"El número de columnas de A debe ser igual al número de filas de B\")  \n",
    "}   \n",
    "\n",
    "culito C: mango[filas_A][columnas_B];\n",
    "\n",
    "repite_burda i entre 0 hasta filas_A {\n",
    "\trepite_burda j entre 0 hasta columnas_B {\n",
    "\t\tC[i][j] = 0\n",
    "\t}\n",
    "}\n",
    "\n",
    "repite_burda i entre 0 hasta filas_A {\n",
    "\trepite_burda j entre 0 hasta columnas_B {\n",
    "\t\trepite_burda k entre 0 hasta columnas_A {\n",
    "\t\t\tC[i][j] += A[i][k] * B[k][j]\n",
    "\t\t}\n",
    "\t}\n",
    "}\n",
    "```"
   ]
  },
  {
   "cell_type": "raw",
   "metadata": {
    "vscode": {
     "languageId": "raw"
    }
   },
   "source": []
  },
  {
   "cell_type": "markdown",
   "metadata": {},
   "source": [
    "## Caso de Prueba Nro.5:  Implementación del algoritmo de Kruskal, incluyendo implementación de cola de prioridades y conjuntos disjuntos"
   ]
  },
  {
   "cell_type": "markdown",
   "metadata": {},
   "source": [
    "### Version C++"
   ]
  },
  {
   "cell_type": "markdown",
   "metadata": {},
   "source": [
    "#### Implementación de Priority Queue"
   ]
  },
  {
   "cell_type": "code",
   "execution_count": 14,
   "metadata": {},
   "outputs": [],
   "source": [
    "#include <iostream>\n",
    "\n",
    "using namespace std;\n",
    "\n",
    "struct Edge {\n",
    "    int src, dest, weight;\n",
    "};\n",
    "\n",
    "struct Node {\n",
    "    Edge edge;\n",
    "    Node* next;\n",
    "};\n",
    "\n",
    "struct PriorityQueue {\n",
    "    Node* head;\n",
    "};\n",
    "\n",
    "void initialize(PriorityQueue& pq) {\n",
    "    pq.head = nullptr;\n",
    "}\n",
    "\n",
    "void insert(PriorityQueue& pq, Edge edge) {\n",
    "    Node* newNode = new Node();\n",
    "    newNode->edge = edge;\n",
    "    newNode->next = nullptr;\n",
    "\n",
    "    // Insertar en la posición correcta\n",
    "    if (pq.head == nullptr || pq.head->edge.weight >= edge.weight) {\n",
    "        newNode->next = pq.head;\n",
    "        pq.head = newNode;\n",
    "    } else {\n",
    "        Node* current = pq.head;\n",
    "        while (current->next != nullptr && current->next->edge.weight < edge.weight) {\n",
    "            current = current->next;\n",
    "        }\n",
    "        newNode->next = current->next;\n",
    "        current->next = newNode;\n",
    "    }\n",
    "}\n",
    "\n",
    "Edge extractMin(PriorityQueue& pq) {\n",
    "    if (pq.head == nullptr) return {-1, -1, -1}; // Error: cola vacía\n",
    "\n",
    "    Node* temp = pq.head;\n",
    "    Edge minEdge = pq.head->edge;\n",
    "    pq.head = pq.head->next;\n",
    "    delete temp; // Liberar memoria del nodo extraído\n",
    "    return minEdge;\n",
    "}\n",
    "\n",
    "bool isEmpty(PriorityQueue& pq) {\n",
    "    return pq.head == nullptr;\n",
    "}"
   ]
  },
  {
   "cell_type": "markdown",
   "metadata": {},
   "source": [
    "#### Implementación de Disjoin Set Union"
   ]
  },
  {
   "cell_type": "code",
   "execution_count": null,
   "metadata": {},
   "outputs": [],
   "source": [
    "struct DSU {\n",
    "    int* parent; // Apuntador al heap para los padres\n",
    "    int* rank;   // Apuntador al heap para los rangos\n",
    "    int size;    // Tamaño del DSU\n",
    "};\n",
    "\n",
    "void initialize(DSU& dsu, int n) {\n",
    "    dsu.parent = new int[n];\n",
    "    dsu.rank = new int[n];\n",
    "    dsu.size = n;\n",
    "    for (int i = 0; i < n; i++) {\n",
    "        dsu.parent[i] = i;\n",
    "        dsu.rank[i] = 0;\n",
    "    }\n",
    "}\n",
    "\n",
    "int find(DSU& dsu, int x) {\n",
    "    if (dsu.parent[x] != x)\n",
    "        dsu.parent[x] = find(dsu, dsu.parent[x]); // Compresión de caminos\n",
    "    return dsu.parent[x];\n",
    "}\n",
    "\n",
    "void unionSets(DSU& dsu, int x, int y) {\n",
    "    int rootX = find(dsu, x);\n",
    "    int rootY = find(dsu, y);\n",
    "    if (rootX != rootY) {\n",
    "        if (dsu.rank[rootX] > dsu.rank[rootY]) {\n",
    "            dsu.parent[rootY] = rootX;\n",
    "        } else if (dsu.rank[rootX] < dsu.rank[rootY]) {\n",
    "            dsu.parent[rootX] = rootY;\n",
    "        } else {\n",
    "            dsu.parent[rootY] = rootX;\n",
    "            dsu.rank[rootX]++;\n",
    "        }\n",
    "    }\n",
    "}"
   ]
  },
  {
   "cell_type": "markdown",
   "metadata": {},
   "source": [
    "#### Implementación de Grafo"
   ]
  },
  {
   "cell_type": "code",
   "execution_count": null,
   "metadata": {},
   "outputs": [],
   "source": [
    "struct Graph {\n",
    "    Edge* edges;\t// Arreglo de aristas. Se utiliza la misma estructura Edge usada en la PriorityQueue.\n",
    "    int edgeCount;\n",
    "    int vertexCount;\n",
    "};\n",
    "\n",
    "void initialize(Graph& g, int vertices, int edges) {\n",
    "    g.vertexCount = vertices;\n",
    "    g.edgeCount = edges;\n",
    "    g.edges = new Edge[edges];\n",
    "}"
   ]
  },
  {
   "cell_type": "markdown",
   "metadata": {},
   "source": [
    "#### Algoritmo de Kruskal para encontrar el MST de un grafo"
   ]
  },
  {
   "cell_type": "code",
   "execution_count": null,
   "metadata": {},
   "outputs": [],
   "source": [
    "void kruskal(Graph& g) {\n",
    "    // Inicializar el DSU\n",
    "    DSU dsu;\n",
    "    initialize(dsu, g.vertexCount);\n",
    "\n",
    "    // Inicializar la PriorityQueue\n",
    "    PriorityQueue pq;\n",
    "    initialize(pq);\n",
    "\n",
    "    // Insertar todas las aristas en la PriorityQueue\n",
    "    for (int i = 0; i < g.edgeCount; i++) {\n",
    "        insert(pq, g.edges[i]);\n",
    "    }\n",
    "\n",
    "    // Variables para el MST\n",
    "    Edge* mst = new Edge[g.vertexCount - 1];\n",
    "    int mstSize = 0;\n",
    "    int totalWeight = 0;\n",
    "\n",
    "    // Mientras haya aristas en la PriorityQueue y el MST no esté completo\n",
    "    while (!isEmpty(pq) && mstSize < g.vertexCount - 1) {\n",
    "        Edge edge = extractMin(pq);\n",
    "\n",
    "        // Verificar si la arista forma un ciclo\n",
    "        int rootSrc = find(dsu, edge.src);\n",
    "        int rootDest = find(dsu, edge.dest);\n",
    "\n",
    "        if (rootSrc != rootDest) {\n",
    "            // Agregar la arista al MST\n",
    "            mst[mstSize++] = edge;\n",
    "            totalWeight += edge.weight;\n",
    "\n",
    "            // Unir los conjuntos en el DSU\n",
    "            unionSets(dsu, rootSrc, rootDest);\n",
    "        }\n",
    "    }\n",
    "\n",
    "    try {\n",
    "        if (mstSize != g.vertexCount - 1) {\n",
    "            throw runtime_error(\"No se pudo encontrar un MST (el grafo no es conexo).\");\n",
    "        }\n",
    "\n",
    "        // Si no se lanza la excepción, se imprime el MST\n",
    "        cout << \"MST encontrado:\\n\";\n",
    "        for (int i = 0; i < mstSize; i++) {\n",
    "            cout << \"Arista: \" << mst[i].src << \" -> \" << mst[i].dest << \", Peso: \" << mst[i].weight << \"\\n\";\n",
    "        }\n",
    "        cout << \"Peso total del MST: \" << totalWeight << \"\\n\";\n",
    "    } catch (const runtime_error& e) {\n",
    "        // Capturamos la excepción y mostramos el mensaje de error\n",
    "        cout << e.what() << \"\\n\";\n",
    "    }\n",
    "\n",
    "    delete[] mst;\n",
    "}"
   ]
  },
  {
   "cell_type": "markdown",
   "metadata": {},
   "source": [
    "### Versión MangoBajito"
   ]
  },
  {
   "cell_type": "markdown",
   "metadata": {},
   "source": [
    "#### Implementación de Priority Queue\n",
    "```\n",
    "arroz_con_mango Edge{\n",
    "\tculito src: mango;\n",
    "\tculito dest: mango;\n",
    "\tculito weight: mango;\n",
    "};\n",
    "\n",
    "arroz_con_mango Node{\n",
    "\tculito edge: Edge;\n",
    "\tahi_ta culito next: Node;\n",
    "};\n",
    "\n",
    "arroz_con_mango PriorityQueue{\n",
    "\tahi_ta culito head: Node;\n",
    "};\n",
    "\n",
    "echar_cuento initialize_pq(aki_toy pq: PriorityQueue) lanza un_coño {\n",
    "\tpq.head = pelabola;\n",
    "};\n",
    "\n",
    "echar_cuento insert(aki_toy pq: PriorityQueue, edge: Edge) lanza un_coño {\n",
    "\tahi_ta culito newNode: Node = nuevo Node();\n",
    "\tnewNode->edge = edge;\n",
    "\tnewNode->next = pelabola;\n",
    "\n",
    "\tsi_es_asi (pq.head igualito pelabola o_sea pq.head->edge.weight mayol edge.weight) {\n",
    "\t\tnewNode->next = pq.head;\n",
    "\t\tpq.head = newNode;\n",
    "\t} nojoda {\n",
    "\t\tahi_ta culito current: Node = pq.head;\n",
    "\t\techale_bolas_si (current->next nie pelabola yunta current->next->edge.weight peluche edge.weight) {\n",
    "\t\t\tcurrent = current->next;\n",
    "\t\t}\n",
    "\t\tnewNode->next = current->next;\n",
    "\t\tcurrent->next = newNode;\n",
    "\t}\n",
    "};\n",
    "\n",
    "echar_cuento extractMin(aki_toy pq: PriorityQueue) lanza Edge {\n",
    "\tsi_es_asi (pq.head igualito pelabola) {\n",
    "\t\tlanzate {-1, -1, -1};\n",
    "\t};\n",
    "\n",
    "\tahi_ta jeva temp: Node = pq.head;\n",
    "\tjeva minEdge: Edge = pq.head->edge;\n",
    "\tpq.head = pq.head->next;\n",
    "\tborradol temp;\n",
    "\n",
    "\tlanzate minEdge;\n",
    "};\n",
    "\n",
    "echar_cuento isEmpty(aki_toy pq: PriorityQueue) lanza tas_claro {\n",
    "\tlanzate pq.head igualito pelabola;\n",
    "};\n",
    "```"
   ]
  },
  {
   "cell_type": "markdown",
   "metadata": {},
   "source": [
    "#### Implementación de Disjoin Set Union\n",
    "```\n",
    "arroz_con_mango DSU {\n",
    "\tahi_ta culito parent: mango;\n",
    "\tahi_ta culito rank: mango;\n",
    "\tculito size: mango;\n",
    "};\n",
    "\n",
    "echar_cuento initialize_dsu(ta_prestao dsu: DSU, n: mango) lanza un_coño {\n",
    "\tdsu.parent = cero_km mango[n];\n",
    "\tdsu.rank = cero_km mango[n];\n",
    "\tdsu.size = n;\n",
    "\n",
    "\trellenamelo(dsu.rank, 0);\n",
    "\trepite_burda i desde 0 hasta n {\n",
    "\t\tdsu.parent[i] = i;\n",
    "\t}\n",
    "};\n",
    "\n",
    "echar_cuento find(aki_toy dsu: DSU, x: mango) lanza mango {\n",
    "\tsi_es_asi (dsu.parent[x] nie x) {\n",
    "\t\tdsu.parent[x] = find(dsu, dsu.parent[x]);\n",
    "\t}\n",
    "\n",
    "\tlanzate dsu.parent[x];\n",
    "};\n",
    "\n",
    "echar_cuento unionSets(aki_toy dsu: DSU, x: mango, y: mango) lanza un_coño {\n",
    "\tjeva rootX: mango = find(dsu, x);\n",
    "\tjeva rootY: mango = find(dsu, y);\n",
    "\n",
    "\tsi_es_asi (rootX nie rootY) {\n",
    "\t\tsi_es_asi (dsu.rank[rootX] lidel dsu.rank[rootY]) {\n",
    "\t\t\tdsu.parent[rootX] = rootY;\n",
    "\t\t} o_asi (dsu.rank[rootX] peluche dsu.rank[rootY]) {\n",
    "\t\t\tdsu.parent[rootX] = rootY;\n",
    "\t\t} nojoda {\n",
    "\t\t\tdsu.parent[rootY] = rootX;\n",
    "\t\t\tdsu.rank[rootX]++;\n",
    "\t\t}\n",
    "\t}\n",
    "}\n",
    "```"
   ]
  },
  {
   "cell_type": "markdown",
   "metadata": {},
   "source": [
    "#### Implementación de Grafo\n",
    "```\n",
    "arroz_con_mango Graph {\n",
    "\tahi_ta culito edges: Edge;  # Se utiliza la misma estructura Edge usada en PriorityQueue\n",
    "\tculito edgeCount: mango;\n",
    "\tculito vertexCount: mango;\n",
    "};\n",
    "\n",
    "echar_cuento initialize(aki_toy g: Graph, vertices: mango, edges: mango) lanza un_coño {\n",
    "\tg.vertexCount = vertices;\n",
    "\tg.edgeCount = edges;\n",
    "\tg.edges = cero_km Edge[edges];\n",
    "};\n",
    "```"
   ]
  },
  {
   "cell_type": "markdown",
   "metadata": {},
   "source": [
    "#### Algoritmo de Kruskal para encontrar el MST de un grafo\n",
    "```\n",
    "echar_cuento kruskal(aki_toy g: Graph) lanza un_coño {\n",
    "\t# Inicializar el DSU\n",
    "\tculito dsu: DSU;\n",
    "\tinitialize_dsu(dsu, g.vertexCount);\n",
    "\t\n",
    "\t# Inicializar la PriorityQueue\n",
    "\tculito pq: PriorityQueue;\n",
    "\tinitialize_pq(pq);\n",
    "\n",
    "\t# Insertar todas las aristas en la PriorityQueue\n",
    "\trepite_burda i desde 0 hasta g.edgeCount {\n",
    "\t\tinsert(pq, e.edges[i]);\n",
    "\t}\n",
    "\n",
    "\tahi_ta culito mst: Edge = cero_km Edge[g.vertexCount - 1];\n",
    "\tculito mstSize: mango = 0;\n",
    "\tculito totalWeight: mango = 0;\n",
    "\n",
    "\techale_bolas_si (nelson isEmpty(pq) yunta mstSize peluche g.vertexCount - 1) {\n",
    "\t\tculito edge: Edge = extractMin(pq);\n",
    "\n",
    "\t\tculito rootSrc: mango = find(dsu, edge.src);\n",
    "\t\tculito rootDest: mango = find(dsu, edge.dest);\n",
    "\n",
    "\t\tsi_es_asi (rootSrc nie rootDest) {\n",
    "\t\t\tmstSize++;\n",
    "\t\t\tmst[mstSize] = edge;\n",
    "\t\t\ttotalWeight += edge.weight;\n",
    "\n",
    "\t\t\tunionSets(dsu, roootSrc, rootDest);\n",
    "\t\t}\n",
    "\t}\n",
    "\n",
    "\tmeando {\n",
    "\t\tsi_es_asi (mstSize nie g.vertexCount - 1) {\n",
    "\t\t\tah_vaina(\"No se pudo encontrar un MST (el grafo no es conexo).\");\n",
    "\t\t};\n",
    "\n",
    "\t\trescata(\"MST encontrado:\");\n",
    "\t\trepite_burda i desde 0 hasta mstSize {\n",
    "\t\t\trescata(\"Arista: \", (higuerote)mst[i].src, \" -> \", (higuerote)mst[i].dest, \", Peso: \", (higuerote)mst[i].weight);\n",
    "\t\t};\n",
    "\n",
    "\t\trescata(\"Peso total de MST: \", (higuerote)totalWeight);\n",
    "\t} fuera_del_perol como e{\n",
    "\t\trescata(e.mensaje);\n",
    "\t};\n",
    "\t\n",
    "\tborradol mst;\n",
    "}\n",
    "```"
   ]
  },
  {
   "cell_type": "markdown",
   "metadata": {},
   "source": [
    "## Caso de Prueba Nro.6:  Intérprete del lenguaje Brainf*ck ( https://esolangs.org/wiki/Brainfuck )"
   ]
  },
  {
   "cell_type": "markdown",
   "metadata": {},
   "source": [
    "### Version Python"
   ]
  },
  {
   "cell_type": "code",
   "execution_count": null,
   "metadata": {},
   "outputs": [],
   "source": [
    "# Hello, World!\n",
    "entrada = \"\"\"\n",
    "+++++++++++[>++++++>+++++++++>++++++++>++++>+++>+<<<<<<-]>+++\n",
    "+++.>++.+++++++..+++.>>.>-.<<-.<.+++.------.--------.>>>+.>-.\n",
    "\"\"\"\n",
    "\n",
    "# Escribir todo lo que se quiera en la memoria\n",
    "# entrada = \"\"\">,[>,]<[<]>[.>]\"\"\"\n",
    "\n",
    "# seteamos la memoria \n",
    "tamano_memoria = 30000\n",
    "memoria = [0 for _ in range(tamano_memoria)]\n",
    "\n",
    "# Seteamos el puntero de la memoria\n",
    "puntero_memoria = 0\n",
    "\n",
    "# Seteamos el pc\n",
    "pc = 0\n",
    "\n",
    "# Control de la profundidad, indica que tan anidado estan las repeticiones\n",
    "profundidad = 0\n",
    "\n",
    "# Controla el caracter que puedes poner en una celda usando el comandp \",\"\n",
    "nuevo_caracter = \"\"\n",
    "\n",
    "# flujo principal \n",
    "\n",
    "while pc < len(entrada):\n",
    "    caracter_entrada = entrada[pc]\n",
    "    \n",
    "    if caracter_entrada == \">\":\n",
    "        if puntero_memoria + 1 < len(memoria):\n",
    "            puntero_memoria += 1\n",
    "        \n",
    "    elif caracter_entrada == \"<\":\n",
    "        if puntero_memoria > 0:\n",
    "            puntero_memoria -= 1\n",
    "        \n",
    "    elif caracter_entrada == \"+\":\n",
    "        memoria[puntero_memoria] += 1\n",
    "        \n",
    "    elif caracter_entrada == \"-\":\n",
    "        memoria[puntero_memoria] -= 1\n",
    "        \n",
    "    elif caracter_entrada == \",\":\n",
    "        nuevo_caracter = input()\n",
    "        if len(nuevo_caracter) == 0:\n",
    "            memoria[puntero_memoria] = 0\n",
    "        else:\n",
    "            memoria[puntero_memoria] = ord(nuevo_caracter[0])\n",
    "        \n",
    "    elif caracter_entrada == \"[\" and memoria[puntero_memoria] == 0:\n",
    "        while True:\n",
    "            pc+=1\n",
    "            \n",
    "            if entrada[pc] == \"[\":\n",
    "                profundidad += 1\n",
    "            elif entrada[pc] == \"]\" and profundidad != 0:\n",
    "                profundidad -=1\n",
    "            elif entrada[pc] == \"]\" and profundidad == 0:\n",
    "                break\n",
    "            \n",
    "    elif caracter_entrada == \"]\" and memoria[puntero_memoria] != 0:\n",
    "        while True:\n",
    "            pc -= 1\n",
    "            \n",
    "            if entrada[pc] == \"]\":\n",
    "                profundidad += 1\n",
    "            elif entrada[pc] == \"[\" and profundidad != 0:\n",
    "                profundidad -=1\n",
    "            elif entrada[pc] == \"[\" and profundidad == 0:\n",
    "                break\n",
    "            \n",
    "    elif caracter_entrada == \".\":\n",
    "        print(chr(memoria[puntero_memoria]), end=\"\")\n",
    "        \n",
    "    pc += 1"
   ]
  },
  {
   "cell_type": "markdown",
   "metadata": {},
   "source": [
    "### Versión MangoBajito"
   ]
  },
  {
   "cell_type": "raw",
   "metadata": {
    "vscode": {
     "languageId": "raw"
    }
   },
   "source": [
    "culito entrada: higuerote = \"\"\"\n",
    "+++++++++++[>++++++>+++++++++>++++++++>++++>+++>+<<<<<<-]>+++\n",
    "+++.>++.+++++++..+++.>>.>-.<<-.<.+++.------.--------.>>>+.>-.\n",
    "\"\"\"\n",
    "\n",
    "culito caracter_entrada: negro\n",
    "\n",
    "# seteamos la memoria \n",
    "culito tamano_memoria: mango = 30000\n",
    "\n",
    "culito memoria: mango[tamano_memoria] \n",
    "\n",
    "# Seteamos el puntero de la memoria\n",
    "culito puntero_memoria: mango = 0\n",
    "\n",
    "# Seteamos el pc\n",
    "culito pc: mango = 0\n",
    "\n",
    "# Control de la profundidad, indica que tan anidado estan las repeticiones\n",
    "culito profundidad: mango = 0\n",
    "\n",
    "# Controla el caracter que puedes poner en una celda usando el comandp \",\"\n",
    "culito nuevo_caracter: higuerote\n",
    "\n",
    "# flujo principal \n",
    "echale_bolas_si pc peluche largo(entrada){\n",
    "    caracter_entrada = entrada[pc]\n",
    "\n",
    "    si_es_asi caracter_entrada igualito \">\"{\n",
    "        si_es_asi puntero_memoria + 1 peluche largo(memoria){\n",
    "            puntero_memoria += 1\n",
    "        }\n",
    "    } o_asi caracter_entrada igualito \"<\"{\n",
    "        si_es_asi puntero_memoria lidel 0{\n",
    "            puntero_memoria -= 1\n",
    "        }\n",
    "    } o_asi caracter_entrada igualito \"+\"{\n",
    "        memoria[puntero_memoria] += 1\n",
    "    } o_asi caracter_entrada igualito \"-\"{\n",
    "        memoria[puntero_memoria] -= 1\n",
    "    } o_asi caracter_entrada igualito \",\"{\n",
    "        nuevo_caracter = hablame()\n",
    "        si_es_asi largo(nuevo_caracter) igualito 0{\n",
    "            memoria[puntero_memoria] = 0\n",
    "        } nojoda {\n",
    "            memoria[puntero_memoria] = (mango)nuevo_caracter[0]\n",
    "        }\n",
    "    } o_asi caracter_entrada igualito \"[\"  yunta memoria[puntero_memoria] igualito 0{\n",
    "        echale_bolas_si Sisa{\n",
    "            pc+=1\n",
    "            si_es_asi entrada[pc] igualito \"[\"{\n",
    "                profundidad += 1\n",
    "            } nojoda si_es_asi entrada[pc] igualito \"]\" yunta profundidad nie 0{\n",
    "                profundidad -=1\n",
    "            } nojoda si_es_asi entrada[pc] igualito \"]\" yunta profundidad igualito 0{\n",
    "                uy_kieto\n",
    "            }\n",
    "        }\n",
    "    } o_asi caracter_entrada igualito \"]\" yunta memoria[puntero_memoria] nie 0{\n",
    "        echale_bolas_si Sisa{\n",
    "            pc -= 1\n",
    "            si_es_asi entrada[pc] igualito \"]\"{\n",
    "                profundidad += 1\n",
    "            } nojoda si_es_asi entrada[pc] igualito \"[\" yunta profundidad nie 0{\n",
    "                profundidad -=1\n",
    "            } nojoda si_es_asi entrada[pc] igualito \"[\" yunta profundidad igualito 0{\n",
    "                uy_kieto\n",
    "            }\n",
    "        }\n",
    "    } o_asi caracter_entrada igualito \".\"{\n",
    "        rescata(negro(memoria[puntero_memoria]), final=\"\")\n",
    "    }\n",
    "\n",
    "    pc += 1\n",
    "}"
   ]
  }
 ],
 "metadata": {
  "kernelspec": {
   "display_name": "Python 3",
   "language": "python",
   "name": "python3"
  },
  "language_info": {
   "codemirror_mode": {
    "name": "ipython",
    "version": 3
   },
   "file_extension": ".py",
   "mimetype": "text/x-python",
   "name": "python",
   "nbconvert_exporter": "python",
   "pygments_lexer": "ipython3",
   "version": "3.12.3"
  }
 },
 "nbformat": 4,
 "nbformat_minor": 2
}
